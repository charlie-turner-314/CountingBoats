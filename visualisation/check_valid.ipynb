{
 "cells": [
  {
   "cell_type": "markdown",
   "metadata": {},
   "source": [
    "Basically, when it failed in the middle of a batch, it might have written out the boats already (due to an accidental generator instead of list comprehension).\n",
    "This meant some duplicates. Luckily, its easy to tell, as boats are always consecutive for a day. So we just keep the last set of consecutive boats for each day."
   ]
  },
  {
   "cell_type": "code",
   "execution_count": 1,
   "metadata": {},
   "outputs": [
    {
     "name": "stdout",
     "output_type": "stream",
     "text": [
      "C:\\ML_Software\\All_Results ['HPC', 'Local_1', 'Local_2']\n",
      "C:\\ML_Software\\All_Results\\HPC []\n",
      "Processing boat_detections.csv\n"
     ]
    },
    {
     "name": "stderr",
     "output_type": "stream",
     "text": [
      "C:\\Users\\turner30\\AppData\\Local\\Temp\\ipykernel_20852\\247819951.py:15: UserWarning: Parsing dates in %d/%m/%Y format when dayfirst=False (the default) was specified. Pass `dayfirst=True` or specify a format to silence this warning.\n",
      "  df = pd.read_csv(os.path.join(root, file), parse_dates=['date'])\n"
     ]
    },
    {
     "name": "stdout",
     "output_type": "stream",
     "text": [
      "  Saved boat_detections.csv\n",
      "Processing coverage.csv\n",
      "  Saved coverage.csv\n",
      "Processing orders.csv\n",
      "  Saved orders.csv\n",
      "C:\\ML_Software\\All_Results\\Local_1 []\n",
      "Processing boat_detections.csv\n",
      "  71212 - 71401. Length: 190\n",
      "  71505 - 71694. Length: 190\n",
      "  71402 - 71429. Length: 28\n",
      "  71695 - 71722. Length: 28\n",
      "  71430 - 71504. Length: 75\n",
      "  71723 - 71797. Length: 75\n",
      "  Saved boat_detections.csv\n",
      "Processing coverage.csv\n",
      "  Saved coverage.csv\n",
      "Processing orders.csv\n",
      "  Saved orders.csv\n",
      "C:\\ML_Software\\All_Results\\Local_2 []\n",
      "Processing boat_detections.csv\n",
      "  Saved boat_detections.csv\n",
      "Processing coverage.csv\n",
      "  Saved coverage.csv\n",
      "Processing orders.csv\n",
      "  Saved orders.csv\n"
     ]
    }
   ],
   "source": [
    "import pandas as pd\n",
    "import os\n",
    "\n",
    "path = \"C:\\\\ML_Software\\\\All_Results\"\n",
    "\n",
    "for root, dirs, files in os.walk(path):\n",
    "    print(root, dirs)\n",
    "    if len(dirs) > 1:\n",
    "        continue\n",
    "    for file in files:\n",
    "        if file.endswith(\".new.csv\"):\n",
    "            os.remove(os.path.join(root, file))\n",
    "        if file.endswith(\".csv\") and not file.endswith(\".new.csv\"): \n",
    "            print(f\"Processing {file}\")\n",
    "            df = pd.read_csv(os.path.join(root, file), parse_dates=['date'])\n",
    "\n",
    "            date_positions = {}\n",
    "            prev_date = None\n",
    "            start_index = 0\n",
    "\n",
    "            for i, current_date in enumerate(df['date']):\n",
    "                if current_date != prev_date:\n",
    "                    if prev_date is not None:\n",
    "                        if prev_date not in date_positions:\n",
    "                            date_positions[prev_date] = []\n",
    "                        date_positions[prev_date].append((start_index, i-1))\n",
    "                    start_index = i\n",
    "                    prev_date = current_date\n",
    "                \n",
    "            if prev_date is not None:\n",
    "                if prev_date not in date_positions:\n",
    "                    date_positions[prev_date] = []\n",
    "                date_positions[prev_date].append((start_index, len(df)-1))\n",
    "\n",
    "            non_consecutive_dates = {}\n",
    "            for date, ranges in date_positions.items():\n",
    "                if len(ranges) > 1:\n",
    "                    non_consecutive_dates[date] = ranges\n",
    "\n",
    "            for date, ranges in non_consecutive_dates.items():\n",
    "                rows = None\n",
    "                for start, end in ranges:\n",
    "                    rows = df.iloc[start:end+1] if rows is None else pd.concat([rows, df.iloc[start:end+1]])\n",
    "                    print(f\"  {start} - {end}. Length: {end-start+1}\")\n",
    "            \n",
    "            # keep only the last range\n",
    "            date_changes = df['date'] != df['date'].shift()\n",
    "            df['group_id'] = date_changes.cumsum()\n",
    "            df['max_group_id'] = df.groupby('date')['group_id'].transform('max')\n",
    "            df_last_group = df[df['group_id'] == df['max_group_id']].copy()\n",
    "            df_last_group.drop(columns=['group_id', 'max_group_id'], inplace=True)\n",
    "            # save the last range\n",
    "            df_last_group.to_csv(os.path.join(root, file), index=False)\n",
    "            print(f\"  Saved {file}\")\n",
    "\n",
    "            \n",
    "\n"
   ]
  },
  {
   "cell_type": "code",
   "execution_count": null,
   "metadata": {},
   "outputs": [],
   "source": []
  }
 ],
 "metadata": {
  "kernelspec": {
   "display_name": "Boats",
   "language": "python",
   "name": "python3"
  },
  "language_info": {
   "codemirror_mode": {
    "name": "ipython",
    "version": 3
   },
   "file_extension": ".py",
   "mimetype": "text/x-python",
   "name": "python",
   "nbconvert_exporter": "python",
   "pygments_lexer": "ipython3",
   "version": "3.10.13"
  }
 },
 "nbformat": 4,
 "nbformat_minor": 2
}
