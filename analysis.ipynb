{
 "cells": [
  {
   "cell_type": "code",
   "execution_count": 1,
   "metadata": {},
   "outputs": [],
   "source": [
    "import pandas as pd\n",
    "import numpy as np\n",
    "import os"
   ]
  },
  {
   "cell_type": "code",
   "execution_count": 8,
   "metadata": {},
   "outputs": [
    {
     "data": {
      "text/html": [
       "<div>\n",
       "<style scoped>\n",
       "    .dataframe tbody tr th:only-of-type {\n",
       "        vertical-align: middle;\n",
       "    }\n",
       "\n",
       "    .dataframe tbody tr th {\n",
       "        vertical-align: top;\n",
       "    }\n",
       "\n",
       "    .dataframe thead th {\n",
       "        text-align: right;\n",
       "    }\n",
       "</style>\n",
       "<table border=\"1\" class=\"dataframe\">\n",
       "  <thead>\n",
       "    <tr style=\"text-align: right;\">\n",
       "      <th></th>\n",
       "      <th>x</th>\n",
       "      <th>y</th>\n",
       "      <th>ml_class</th>\n",
       "      <th>manual_class</th>\n",
       "      <th>aoi</th>\n",
       "      <th>correct</th>\n",
       "    </tr>\n",
       "  </thead>\n",
       "  <tbody>\n",
       "    <tr>\n",
       "      <th>0</th>\n",
       "      <td>3386.375</td>\n",
       "      <td>1775.500</td>\n",
       "      <td>0</td>\n",
       "      <td>-1</td>\n",
       "      <td>heron</td>\n",
       "      <td>False</td>\n",
       "    </tr>\n",
       "    <tr>\n",
       "      <th>1</th>\n",
       "      <td>3506.000</td>\n",
       "      <td>1812.000</td>\n",
       "      <td>0</td>\n",
       "      <td>-1</td>\n",
       "      <td>heron</td>\n",
       "      <td>False</td>\n",
       "    </tr>\n",
       "    <tr>\n",
       "      <th>2</th>\n",
       "      <td>4246.531</td>\n",
       "      <td>1795.156</td>\n",
       "      <td>0</td>\n",
       "      <td>-1</td>\n",
       "      <td>heron</td>\n",
       "      <td>False</td>\n",
       "    </tr>\n",
       "    <tr>\n",
       "      <th>3</th>\n",
       "      <td>3859.500</td>\n",
       "      <td>1887.500</td>\n",
       "      <td>0</td>\n",
       "      <td>-1</td>\n",
       "      <td>heron</td>\n",
       "      <td>False</td>\n",
       "    </tr>\n",
       "    <tr>\n",
       "      <th>4</th>\n",
       "      <td>2923.000</td>\n",
       "      <td>2130.000</td>\n",
       "      <td>0</td>\n",
       "      <td>-1</td>\n",
       "      <td>heron</td>\n",
       "      <td>False</td>\n",
       "    </tr>\n",
       "  </tbody>\n",
       "</table>\n",
       "</div>"
      ],
      "text/plain": [
       "          x         y  ml_class  manual_class    aoi  correct\n",
       "0  3386.375  1775.500         0            -1  heron    False\n",
       "1  3506.000  1812.000         0            -1  heron    False\n",
       "2  4246.531  1795.156         0            -1  heron    False\n",
       "3  3859.500  1887.500         0            -1  heron    False\n",
       "4  2923.000  2130.000         0            -1  heron    False"
      ]
     },
     "execution_count": 8,
     "metadata": {},
     "output_type": "execute_result"
    }
   ],
   "source": [
    "# Load data from Moreton bay case study\n",
    "folder = \"/Users/charlieturner/Documents/CountingBoats/runs/val/val4\"\n",
    "\n",
    "csvs = [f for f in os.listdir(folder) if f.endswith('.csv') and not \"all_boats\" in f]\n",
    "# now group them by aoi where filenames will be date_aoi.csv\n",
    "# end up with list of list of csvs\n",
    "aois = list(set([f.split(\"_\")[1] for f in csvs]))\n",
    "grouped_csvs = []\n",
    "for aoi in aois:\n",
    "    grouped_csvs.append([f for f in csvs if aoi in f])\n",
    "\n",
    "# Load all csvs into dataframes\n",
    "dfs = []\n",
    "for group in grouped_csvs:\n",
    "    for csv in group:\n",
    "        df = pd.read_csv(os.path.join(folder, csv))\n",
    "        df[\"aoi\"] = csv.split(\"_\")[1].split(\".\")[0]\n",
    "        dfs.append(df)\n",
    "    \n",
    "# Concatenate all dataframes with new column for aoi\n",
    "df = pd.concat(dfs)\n",
    "df[\"correct\"] = (df[\"ml_class\"] == df[\"manual_class\"])\n",
    "df.head()\n"
   ]
  },
  {
   "cell_type": "code",
   "execution_count": 10,
   "metadata": {},
   "outputs": [
    {
     "name": "stdout",
     "output_type": "stream",
     "text": [
      "AOI:  heron\n",
      "Total boats:  72\n",
      "Correct boats:  9\n",
      "Accuracy:  0.12\n",
      "AOI:  haymen\n",
      "Total boats:  163\n",
      "Correct boats:  140\n",
      "Accuracy:  0.86\n",
      "AOI:  keppel\n",
      "Total boats:  407\n",
      "Correct boats:  247\n",
      "Accuracy:  0.61\n"
     ]
    }
   ],
   "source": [
    "for aoi in [a.split(\"_\")[0].split(\".\")[0] for a in aois]:\n",
    "    boats = df[df[\"aoi\"] == aoi]\n",
    "    print(\"AOI: \", aoi)\n",
    "    print(\"Total boats: \", len(boats))\n",
    "    print(\"Correct boats: \", len(boats[boats[\"correct\"]]))\n",
    "    print(\"Accuracy: \", round(len(boats[boats[\"correct\"]]) / len(boats), 2))"
   ]
  },
  {
   "cell_type": "code",
   "execution_count": 5,
   "metadata": {},
   "outputs": [],
   "source": [
    "# Graph 2 & 3: Same as above, but with stationary (graph 2) and moving boats (graph 3) separated"
   ]
  },
  {
   "cell_type": "code",
   "execution_count": null,
   "metadata": {},
   "outputs": [],
   "source": [
    "# "
   ]
  }
 ],
 "metadata": {
  "kernelspec": {
   "display_name": "boats",
   "language": "python",
   "name": "python3"
  },
  "language_info": {
   "codemirror_mode": {
    "name": "ipython",
    "version": 3
   },
   "file_extension": ".py",
   "mimetype": "text/x-python",
   "name": "python",
   "nbconvert_exporter": "python",
   "pygments_lexer": "ipython3",
   "version": "3.10.13"
  }
 },
 "nbformat": 4,
 "nbformat_minor": 2
}
